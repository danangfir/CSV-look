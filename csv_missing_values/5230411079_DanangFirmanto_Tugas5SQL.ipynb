{
  "nbformat": 4,
  "nbformat_minor": 0,
  "metadata": {
    "colab": {
      "provenance": [],
      "gpuType": "T4"
    },
    "kernelspec": {
      "name": "python3",
      "display_name": "Python 3"
    },
    "language_info": {
      "name": "python"
    },
    "accelerator": "GPU"
  },
  "cells": [
    {
      "cell_type": "code",
      "execution_count": 57,
      "metadata": {
        "colab": {
          "base_uri": "https://localhost:8080/"
        },
        "id": "PGqNffGugRHU",
        "outputId": "800d7932-38f3-4373-f87e-626732b280f0"
      },
      "outputs": [
        {
          "output_type": "stream",
          "name": "stdout",
          "text": [
            "Mounted at /content/drive\n"
          ]
        }
      ],
      "source": [
        "from google.colab import drive\n",
        "drive.mount('/content/drive', force_remount=True)"
      ]
    },
    {
      "cell_type": "code",
      "source": [
        "import pandas as pd\n",
        "import random\n",
        "import os\n",
        "\n",
        "# Membaca file CSV\n",
        "file1_path = \"/content/drive/MyDrive/tugas/Major_eruption.csv\"\n",
        "file2_path = \"/content/drive/MyDrive/tugas/volcano_indo.csv\"\n",
        "\n",
        "# Pastikan file ada\n",
        "if not os.path.exists(file1_path):\n",
        "    raise FileNotFoundError(f\"File not found: {file1_path}\")\n",
        "if not os.path.exists(file2_path):\n",
        "    raise FileNotFoundError(f\"File not found: {file2_path}\")\n",
        "\n",
        "try:\n",
        "    df1 = pd.read_csv(file1_path)\n",
        "    df2 = pd.read_csv(file2_path)\n",
        "except pd.errors.EmptyDataError:\n",
        "    raise pd.errors.EmptyDataError(\"One of the CSV files is empty.\")\n",
        "except pd.errors.ParserError:\n",
        "    raise pd.errors.ParserError(\"Error parsing one of the CSV files. Check the file format.\")\n",
        "\n",
        "\n",
        "# Fungsi untuk memperbanyak data\n",
        "def augment_data_with_conditions(df1, df2, target_size=100):\n",
        "    if target_size <= 0:\n",
        "        raise ValueError(\"Target size must be a positive integer.\")\n",
        "\n",
        "    df1_augmented = pd.concat([df1] * (target_size // len(df1) + 1), ignore_index=True)\n",
        "    df1_augmented = df1_augmented.sample(target_size, replace=len(df1) < target_size).reset_index(drop=True)\n",
        "\n",
        "    df2_augmented = pd.concat([df2] * (target_size // len(df2) + 1), ignore_index=True)\n",
        "    df2_augmented = df2_augmented.sample(target_size, replace=len(df2) < target_size).reset_index(drop=True)\n",
        "\n",
        "    # Menambahkan missing values ke df2 (10% data)\n",
        "    num_missing = int(0.1 * len(df2_augmented))\n",
        "    missing_indices = random.sample(df2_augmented.index.to_list(), num_missing)\n",
        "    for idx in missing_indices:\n",
        "        col = random.choice(df2_augmented.columns)\n",
        "        df2_augmented.loc[idx, col] = None\n",
        "\n",
        "    # Menambahkan duplikasi pada sebagian df2 (20% data)\n",
        "    num_duplicates = int(0.2 * len(df2_augmented))\n",
        "    if num_duplicates > 0:\n",
        "        duplicates = df2_augmented.sample(num_duplicates, replace=False)\n",
        "        df2_augmented = pd.concat([df2_augmented, duplicates], ignore_index=True).reset_index(drop=True)\n",
        "\n",
        "\n",
        "    return df1_augmented, df2_augmented\n",
        "\n",
        "# Memperbanyak data sesuai kondisi\n",
        "try:\n",
        "    augmented_df1, augmented_df2 = augment_data_with_conditions(df1, df2, target_size=100)\n",
        "\n",
        "    # Menyimpan hasil ke file lokal\n",
        "    output_dir = \"/content/drive/MyDrive/Colab Notebooks/PAD/\"\n",
        "    os.makedirs(output_dir, exist_ok=True)\n",
        "\n",
        "    augmented_df1.to_csv(os.path.join(output_dir, \"Major_eruption.csv\"), index=False)\n",
        "    augmented_df2.to_csv(os.path.join(output_dir, \"volcano_indo.csv\"), index=False)\n",
        "\n",
        "    print(\"File berhasil disimpan:\")\n",
        "    print(f\"- {os.path.join(output_dir, 'Major_eruption.csv')} (tanpa missing atau duplikat)\")\n",
        "    print(f\"- {os.path.join(output_dir, 'volcano_indo.csv')} (dengan missing value dan beberapa duplikat)\")\n",
        "\n",
        "except ValueError as e:\n",
        "    print(f\"Error: {e}\")\n",
        "except FileNotFoundError as e:\n",
        "    print(f\"Error: {e}\")\n",
        "except pd.errors.EmptyDataError as e:\n",
        "    print(f\"Error: {e}\")\n",
        "except pd.errors.ParserError as e:\n",
        "    print(f\"Error: {e}\")\n",
        "except Exception as e: # Tangkap semua exception\n",
        "    print(f\"An unexpected error occurred: {e}\")"
      ],
      "metadata": {
        "colab": {
          "base_uri": "https://localhost:8080/"
        },
        "id": "htGJivJ7j_o1",
        "outputId": "0b5cdb45-b880-4a33-cf1a-10b3f291774c"
      },
      "execution_count": 58,
      "outputs": [
        {
          "output_type": "stream",
          "name": "stdout",
          "text": [
            "File berhasil disimpan:\n",
            "- /content/drive/MyDrive/Colab Notebooks/PAD/Major_eruption.csv (tanpa missing atau duplikat)\n",
            "- /content/drive/MyDrive/Colab Notebooks/PAD/volcano_indo.csv (dengan missing value dan beberapa duplikat)\n"
          ]
        }
      ]
    },
    {
      "cell_type": "code",
      "source": [
        "df = pd.read_csv(\"/content/drive/MyDrive/Colab Notebooks/PAD/Major_eruption.csv\")\n",
        "df.duplicated().sum()"
      ],
      "metadata": {
        "id": "7FMHOxDC8EQb",
        "colab": {
          "base_uri": "https://localhost:8080/"
        },
        "outputId": "e1d32de4-63a2-4a2e-f197-bda2661a3509"
      },
      "execution_count": 59,
      "outputs": [
        {
          "output_type": "execute_result",
          "data": {
            "text/plain": [
              "76"
            ]
          },
          "metadata": {},
          "execution_count": 59
        }
      ]
    },
    {
      "cell_type": "code",
      "source": [
        "from pyspark.sql import SparkSession\n",
        "from pyspark.sql.types import *\n",
        "\n",
        "# Buat SparkSession\n",
        "spark = SparkSession.builder \\\n",
        "    .appName(\"Major_eruption Analysis\") \\\n",
        "    .getOrCreate()\n",
        "\n",
        "# Tentukan skema untuk DataFrame agar cocok dengan CSV asli\n",
        "vol_schema = StructType([\n",
        "    StructField(\"index\", IntegerType(), True),\n",
        "    StructField(\"Eruption date\", StringType(), True),\n",
        "    StructField(\"Volcano\", StringType(), True),\n",
        "    StructField(\"Cessation date\", StringType(), True),\n",
        "    StructField(\"VEI\", IntegerType(), True),\n",
        "    StructField(\"Characteristics\", StringType(), True),\n",
        "    StructField(\"Tsunami\", StringType(), True),\n",
        "    StructField(\"Tephra volume\", StringType(), True),\n",
        "    StructField(\"Fatality\", StringType(), True)\n",
        "])\n",
        "\n",
        "# Baca file CSV ke dalam DataFrame\n",
        "vol_df = spark.read.csv(\n",
        "    \"/content/drive/MyDrive/Colab Notebooks/PAD/Major_eruption.csv\",\n",
        "    header=True,\n",
        "    schema=vol_schema\n",
        ")\n",
        "\n",
        "# Tampilkan DataFrame\n",
        "vol_df.show()\n",
        "vol_df.createOrReplaceTempView('VolcanoEruptions')\n",
        "\n",
        "# Total fatalities\n",
        "spark.sql(\"\"\"\n",
        "    SELECT\n",
        "        Volcano,\n",
        "        MAX(CAST(REPLACE(Fatality, ',', '') AS DECIMAL)) as MaxFatalities\n",
        "    FROM VolcanoEruptions\n",
        "    WHERE Fatality != 'N/A'\n",
        "    GROUP BY Volcano\n",
        "    ORDER BY MaxFatalities DESC\n",
        "    LIMIT 10\n",
        "\"\"\").show()\n",
        "\n",
        "# Analisis distribusi VEI\n",
        "spark.sql(\"\"\"\n",
        "    SELECT\n",
        "        VEI,\n",
        "        COUNT(*) as EruptionCount\n",
        "    FROM VolcanoEruptions\n",
        "    GROUP BY VEI\n",
        "    ORDER BY VEI\n",
        "\"\"\").show()"
      ],
      "metadata": {
        "id": "Pqift7eKdX9Z",
        "colab": {
          "base_uri": "https://localhost:8080/"
        },
        "outputId": "69e6840b-23af-48dc-bd13-99f3a807046d"
      },
      "execution_count": 60,
      "outputs": [
        {
          "output_type": "stream",
          "name": "stdout",
          "text": [
            "+-----+----------------+----------+---------------+---+-----------------+-------+-------------+--------+\n",
            "|index|   Eruption date|   Volcano| Cessation date|VEI|  Characteristics|Tsunami|Tephra volume|Fatality|\n",
            "+-----+----------------+----------+---------------+---+-----------------+-------+-------------+--------+\n",
            "|    9|   17 March 1963|     Agung|27 January 1964|  5|      cv,pf,lf,lm|     no|        1 km3|   1,148|\n",
            "|   14|  26 August 1883|  Krakatoa|  February 1884|  6|cv,se,pf,fa,lm,cc|15–42 m|    5–8.5 km3|  36,600|\n",
            "|   20|  12 August 1772|Papandayan| 12 August 1772|  3|            cv,ph|     no|         NULL|   2,957|\n",
            "|   16|    2 March 1856|       Awu|  17 March 1856|  3|         cv,pf,lm|    yes|0.51±0.50 km3|   2,806|\n",
            "|   16|    2 March 1856|       Awu|  17 March 1856|  3|         cv,pf,lm|    yes|0.51±0.50 km3|   2,806|\n",
            "|    9|   17 March 1963|     Agung|27 January 1964|  5|      cv,pf,lf,lm|     no|        1 km3|   1,148|\n",
            "|    9|   17 March 1963|     Agung|27 January 1964|  5|      cv,pf,lf,lm|     no|        1 km3|   1,148|\n",
            "|   23|  September 1257|   Samalas|        unknown|  7|             NULL|   NULL|         NULL|    NULL|\n",
            "|   17|  8 October 1822|Galunggung|  December 1822|  5|      cv,pf,ld,lm|     no|      1 km3 +|   4,011|\n",
            "|    3| 3 November 2010|    Merapi|8 November 2010|  4|      cv,pf,ld,lm|     no|         NULL|     353|\n",
            "|   20|  12 August 1772|Papandayan| 12 August 1772|  3|            cv,ph|     no|         NULL|   2,957|\n",
            "|    8|   26 April 1966|     Kelut|  27 April 1966|  4|      cv,cl,pf,lm|     no|    0.089 km3|     212|\n",
            "|    9|   17 March 1963|     Agung|27 January 1964|  5|      cv,pf,lf,lm|     no|        1 km3|   1,148|\n",
            "|    9|   17 March 1963|     Agung|27 January 1964|  5|      cv,pf,lf,lm|     no|        1 km3|   1,148|\n",
            "|   13|     7 June 1892|       Awu|   12 June 1892|  3|         cv,pf,lm|    yes|         NULL|   1,532|\n",
            "|    9|   17 March 1963|     Agung|27 January 1964|  5|      cv,pf,lf,lm|     no|        1 km3|   1,148|\n",
            "|   19|   6 August 1812|       Awu|  8 August 1812|  4|         cv,pf,lm|     no|0.55±0.50 km3|     963|\n",
            "|    5|    18 July 1983|      Colo|  December 1983|  4|         cv,pf,ph|     no|         NULL|       0|\n",
            "|   16|    2 March 1856|       Awu|  17 March 1856|  3|         cv,pf,lm|    yes|0.51±0.50 km3|   2,806|\n",
            "|    4|10 February 1990|     Kelut|     March 1990|  4|cv,cl,pf,ph,ld,lm|     no|     0.13 km3|      35|\n",
            "+-----+----------------+----------+---------------+---+-----------------+-------+-------------+--------+\n",
            "only showing top 20 rows\n",
            "\n",
            "+-------------+-------------+\n",
            "|      Volcano|MaxFatalities|\n",
            "+-------------+-------------+\n",
            "|     Krakatoa|        36600|\n",
            "|        Kelut|        10000|\n",
            "|   Galunggung|         4011|\n",
            "|       Merapi|         3000|\n",
            "|   Papandayan|         2957|\n",
            "|          Awu|         2806|\n",
            "|        Agung|         1148|\n",
            "|Anak Krakatoa|          437|\n",
            "|         Colo|            0|\n",
            "|         Toba|         NULL|\n",
            "+-------------+-------------+\n",
            "\n",
            "+---+-------------+\n",
            "|VEI|EruptionCount|\n",
            "+---+-------------+\n",
            "|  2|            2|\n",
            "|  3|           26|\n",
            "|  4|           39|\n",
            "|  5|           18|\n",
            "|  6|            3|\n",
            "|  7|            7|\n",
            "|  8|            5|\n",
            "+---+-------------+\n",
            "\n"
          ]
        }
      ]
    },
    {
      "cell_type": "code",
      "source": [
        "#sel terpisah\n",
        "jumlahBaris = len(df)\n",
        "print(f\"Jumlah baris dalam DataFrame: {jumlahBaris}\")"
      ],
      "metadata": {
        "colab": {
          "base_uri": "https://localhost:8080/"
        },
        "id": "t1_d5VVEcUcK",
        "outputId": "940d8490-25a4-465d-9af1-f94abf2a5b34"
      },
      "execution_count": 61,
      "outputs": [
        {
          "output_type": "stream",
          "name": "stdout",
          "text": [
            "Jumlah baris dalam DataFrame: 100\n"
          ]
        }
      ]
    },
    {
      "cell_type": "code",
      "source": [
        "from pyspark.sql import SparkSession\n",
        "from pyspark.sql.types import *\n",
        "\n",
        "vol_df.printSchema()\n",
        "pandas_df = vol_df.toPandas()\n",
        "print(pandas_df.dtypes)"
      ],
      "metadata": {
        "colab": {
          "base_uri": "https://localhost:8080/"
        },
        "id": "VKWy8DMBc1aJ",
        "outputId": "144de813-0b68-4f89-a84b-7b8cd1d1df2c"
      },
      "execution_count": 62,
      "outputs": [
        {
          "output_type": "stream",
          "name": "stdout",
          "text": [
            "root\n",
            " |-- index: integer (nullable = true)\n",
            " |-- Eruption date: string (nullable = true)\n",
            " |-- Volcano: string (nullable = true)\n",
            " |-- Cessation date: string (nullable = true)\n",
            " |-- VEI: integer (nullable = true)\n",
            " |-- Characteristics: string (nullable = true)\n",
            " |-- Tsunami: string (nullable = true)\n",
            " |-- Tephra volume: string (nullable = true)\n",
            " |-- Fatality: string (nullable = true)\n",
            "\n",
            "index               int32\n",
            "Eruption date      object\n",
            "Volcano            object\n",
            "Cessation date     object\n",
            "VEI                 int32\n",
            "Characteristics    object\n",
            "Tsunami            object\n",
            "Tephra volume      object\n",
            "Fatality           object\n",
            "dtype: object\n"
          ]
        }
      ]
    },
    {
      "cell_type": "code",
      "source": [
        "# contoh sql manipulation\n",
        "vol_df.createOrReplaceTempView('VolcanoEruptions')\n",
        "\n",
        "# Gunakan SELECT untuk membuat DataFrame baru dengan nilai yang diperbarui\n",
        "updated_vol_df = spark.sql(\"\"\"\n",
        "    SELECT *,\n",
        "           CASE WHEN `Tephra volume` IS NULL THEN 'Unknown'\n",
        "                ELSE `Tephra volume`\n",
        "           END as updated_Tephra_volume\n",
        "    FROM VolcanoEruptions\n",
        "\"\"\")\n",
        "\n",
        "# Ganti DataFrame asli dengan yang diperbarui\n",
        "updated_vol_df = updated_vol_df.drop(\"Tephra volume\").withColumnRenamed(\"updated_Tephra_volume\", \"Tephra volume\")\n",
        "\n",
        "# Buat ulang tampilan sementara dengan DataFrame yang diperbarui\n",
        "updated_vol_df.createOrReplaceTempView('VolcanoEruptions')\n",
        "\n",
        "# Verifikasi perubahannya\n",
        "spark.sql(\"SELECT * FROM VolcanoEruptions WHERE `Tephra volume` = 'Unknown'\").show()"
      ],
      "metadata": {
        "colab": {
          "base_uri": "https://localhost:8080/"
        },
        "id": "rzrJP3SBdRlj",
        "outputId": "5ae485b5-b10e-43b5-abd0-2c544348b151"
      },
      "execution_count": 63,
      "outputs": [
        {
          "output_type": "stream",
          "name": "stdout",
          "text": [
            "+-----+----------------+-------------+---------------+---+-----------------+-------+--------+-------------+\n",
            "|index|   Eruption date|      Volcano| Cessation date|VEI|  Characteristics|Tsunami|Fatality|Tephra volume|\n",
            "+-----+----------------+-------------+---------------+---+-----------------+-------+--------+-------------+\n",
            "|   20|  12 August 1772|   Papandayan| 12 August 1772|  3|            cv,ph|     no|   2,957|      Unknown|\n",
            "|   23|  September 1257|      Samalas|        unknown|  7|             NULL|   NULL|    NULL|      Unknown|\n",
            "|    3| 3 November 2010|       Merapi|8 November 2010|  4|      cv,pf,ld,lm|     no|     353|      Unknown|\n",
            "|   20|  12 August 1772|   Papandayan| 12 August 1772|  3|            cv,ph|     no|   2,957|      Unknown|\n",
            "|   13|     7 June 1892|          Awu|   12 June 1892|  3|         cv,pf,lm|    yes|   1,532|      Unknown|\n",
            "|    5|    18 July 1983|         Colo|  December 1983|  4|         cv,pf,ph|     no|       0|      Unknown|\n",
            "|    1|21 December 2018|Anak Krakatoa|10 January 2019|  4|cv,se,pf,fa,lm,cc|  1–2 m|     437|      Unknown|\n",
            "|   20|  12 August 1772|   Papandayan| 12 August 1772|  3|            cv,ph|     no|   2,957|      Unknown|\n",
            "|   13|     7 June 1892|          Awu|   12 June 1892|  3|         cv,pf,lm|    yes|   1,532|      Unknown|\n",
            "|   21|   4 August 1672|       Merapi|        unknown|  3|         cv,pf,lm|     no|   3,000|      Unknown|\n",
            "|    1|21 December 2018|Anak Krakatoa|10 January 2019|  4|cv,se,pf,fa,lm,cc|  1–2 m|     437|      Unknown|\n",
            "|    5|    18 July 1983|         Colo|  December 1983|  4|         cv,pf,ph|     no|       0|      Unknown|\n",
            "|    5|    18 July 1983|         Colo|  December 1983|  4|         cv,pf,ph|     no|       0|      Unknown|\n",
            "|    5|    18 July 1983|         Colo|  December 1983|  4|         cv,pf,ph|     no|       0|      Unknown|\n",
            "|   13|     7 June 1892|          Awu|   12 June 1892|  3|         cv,pf,lm|    yes|   1,532|      Unknown|\n",
            "|   13|     7 June 1892|          Awu|   12 June 1892|  3|         cv,pf,lm|    yes|   1,532|      Unknown|\n",
            "|   13|     7 June 1892|          Awu|   12 June 1892|  3|         cv,pf,lm|    yes|   1,532|      Unknown|\n",
            "|   20|  12 August 1772|   Papandayan| 12 August 1772|  3|            cv,ph|     no|   2,957|      Unknown|\n",
            "|   21|   4 August 1672|       Merapi|        unknown|  3|         cv,pf,lm|     no|   3,000|      Unknown|\n",
            "|   13|     7 June 1892|          Awu|   12 June 1892|  3|         cv,pf,lm|    yes|   1,532|      Unknown|\n",
            "+-----+----------------+-------------+---------------+---+-----------------+-------+--------+-------------+\n",
            "only showing top 20 rows\n",
            "\n"
          ]
        }
      ]
    },
    {
      "cell_type": "code",
      "source": [
        "from pyspark.sql.functions import lower, trim\n",
        "# Buat SparkSession\n",
        "spark = SparkSession.builder.appName(\"VolcanoJoin\").getOrCreate()\n",
        "\n",
        "# skema untuk volcano_indo_df\n",
        "indo_schema = StructType([\n",
        "    StructField(\"Volcano_ID\", IntegerType(), True),\n",
        "    StructField(\"Volcano_Name\", StringType(), True),\n",
        "    StructField(\"Last_Eruption\", StringType(), True),\n",
        "    StructField(\"Status\", StringType(), True),\n",
        "    StructField(\"Region\", StringType(), True)\n",
        "])\n",
        "\n",
        "# Baca file CSV ke dalam volcano_indo_df\n",
        "volcano_indo_df = spark.read.csv(\n",
        "    \"/content/drive/MyDrive/tugas/volcano_indo.csv\",\n",
        "    header=True,\n",
        "    schema=indo_schema\n",
        ")\n",
        "\n",
        "# Standarisasi nama gunung berapi\n",
        "vol_df = vol_df.withColumn(\"Volcano\", lower(trim(vol_df[\"Volcano\"])))\n",
        "volcano_indo_df = volcano_indo_df.withColumn(\"Volcano_Name\", lower(trim(volcano_indo_df[\"Volcano_Name\"])))\n",
        "\n",
        "# Gabungkan DataFrame\n",
        "joined_df = vol_df.join(volcano_indo_df, vol_df[\"Volcano\"] == volcano_indo_df[\"Volcano_Name\"], \"left\")\n",
        "\n",
        "# Tampilkan hasil\n",
        "joined_df.show()"
      ],
      "metadata": {
        "colab": {
          "base_uri": "https://localhost:8080/"
        },
        "id": "ZtCYTCiGfVpf",
        "outputId": "1f4c70e1-f466-47f1-f37b-10c08ca6cd87"
      },
      "execution_count": 64,
      "outputs": [
        {
          "output_type": "stream",
          "name": "stdout",
          "text": [
            "+-----+----------------+----------+---------------+---+-----------------+-------+-------------+--------+----------+------------+-------------+--------------------+--------------------+\n",
            "|index|   Eruption date|   Volcano| Cessation date|VEI|  Characteristics|Tsunami|Tephra volume|Fatality|Volcano_ID|Volcano_Name|Last_Eruption|              Status|              Region|\n",
            "+-----+----------------+----------+---------------+---+-----------------+-------+-------------+--------+----------+------------+-------------+--------------------+--------------------+\n",
            "|    9|   17 March 1963|     agung|27 January 1964|  5|      cv,pf,lf,lm|     no|        1 km3|   1,148|        82|       agung|stratovolcano|3,031 metres (9,9...|      2019 (ongoing)|\n",
            "|   14|  26 August 1883|  krakatoa|  February 1884|  6|cv,se,pf,fa,lm,cc|15–42 m|    5–8.5 km3|  36,600|      NULL|        NULL|         NULL|                NULL|                NULL|\n",
            "|   20|  12 August 1772|papandayan| 12 August 1772|  3|            cv,ph|     no|         NULL|   2,957|        46|  papandayan|stratovolcano|2,665 metres (8,7...|11 November 2002 (2)|\n",
            "|   16|    2 March 1856|       awu|  17 March 1856|  3|         cv,pf,lm|    yes|0.51±0.50 km3|   2,806|       131|         awu|stratovolcano|1,320 metres (4,3...|     2 June 2004 (2)|\n",
            "|   16|    2 March 1856|       awu|  17 March 1856|  3|         cv,pf,lm|    yes|0.51±0.50 km3|   2,806|       131|         awu|stratovolcano|1,320 metres (4,3...|     2 June 2004 (2)|\n",
            "|    9|   17 March 1963|     agung|27 January 1964|  5|      cv,pf,lf,lm|     no|        1 km3|   1,148|        82|       agung|stratovolcano|3,031 metres (9,9...|      2019 (ongoing)|\n",
            "|    9|   17 March 1963|     agung|27 January 1964|  5|      cv,pf,lf,lm|     no|        1 km3|   1,148|        82|       agung|stratovolcano|3,031 metres (9,9...|      2019 (ongoing)|\n",
            "|   23|  September 1257|   samalas|        unknown|  7|             NULL|   NULL|         NULL|    NULL|        83|     samalas|stratovolcano|2,867 metres (9,4...|            1257 (7)|\n",
            "|   17|  8 October 1822|galunggung|  December 1822|  5|      cv,pf,ld,lm|     no|      1 km3 +|   4,011|        51|  galunggung|stratovolcano|2,168 metres (7,1...|  9 January 1984 (1)|\n",
            "|    3| 3 November 2010|    merapi|8 November 2010|  4|      cv,pf,ld,lm|     no|         NULL|     353|        62|      merapi|stratovolcano|2,968 metres (9,7...|                NULL|\n",
            "|   20|  12 August 1772|papandayan| 12 August 1772|  3|            cv,ph|     no|         NULL|   2,957|        46|  papandayan|stratovolcano|2,665 metres (8,7...|11 November 2002 (2)|\n",
            "|    8|   26 April 1966|     kelut|  27 April 1966|  4|      cv,cl,pf,lm|     no|    0.089 km3|     212|      NULL|        NULL|         NULL|                NULL|                NULL|\n",
            "|    9|   17 March 1963|     agung|27 January 1964|  5|      cv,pf,lf,lm|     no|        1 km3|   1,148|        82|       agung|stratovolcano|3,031 metres (9,9...|      2019 (ongoing)|\n",
            "|    9|   17 March 1963|     agung|27 January 1964|  5|      cv,pf,lf,lm|     no|        1 km3|   1,148|        82|       agung|stratovolcano|3,031 metres (9,9...|      2019 (ongoing)|\n",
            "|   13|     7 June 1892|       awu|   12 June 1892|  3|         cv,pf,lm|    yes|         NULL|   1,532|       131|         awu|stratovolcano|1,320 metres (4,3...|     2 June 2004 (2)|\n",
            "|    9|   17 March 1963|     agung|27 January 1964|  5|      cv,pf,lf,lm|     no|        1 km3|   1,148|        82|       agung|stratovolcano|3,031 metres (9,9...|      2019 (ongoing)|\n",
            "|   19|   6 August 1812|       awu|  8 August 1812|  4|         cv,pf,lm|     no|0.55±0.50 km3|     963|       131|         awu|stratovolcano|1,320 metres (4,3...|     2 June 2004 (2)|\n",
            "|    5|    18 July 1983|      colo|  December 1983|  4|         cv,pf,ph|     no|         NULL|       0|       119|        colo|stratovolcano|507 metres (1,663...|    18 July 1983 (4)|\n",
            "|   16|    2 March 1856|       awu|  17 March 1856|  3|         cv,pf,lm|    yes|0.51±0.50 km3|   2,806|       131|         awu|stratovolcano|1,320 metres (4,3...|     2 June 2004 (2)|\n",
            "|    4|10 February 1990|     kelut|     March 1990|  4|cv,cl,pf,ph,ld,lm|     no|     0.13 km3|      35|      NULL|        NULL|         NULL|                NULL|                NULL|\n",
            "+-----+----------------+----------+---------------+---+-----------------+-------+-------------+--------+----------+------------+-------------+--------------------+--------------------+\n",
            "only showing top 20 rows\n",
            "\n"
          ]
        }
      ]
    },
    {
      "cell_type": "code",
      "source": [
        "BarisJoin = vol_df.join(volcano_indo_df, vol_df[\"Volcano\"] == volcano_indo_df[\"Volcano_Name\"], \"left\")\n",
        "print(f'Jumlah Baris setalah Join : {BarisJoin.count()}')"
      ],
      "metadata": {
        "colab": {
          "base_uri": "https://localhost:8080/"
        },
        "id": "R93WGlvPitA8",
        "outputId": "ccfe891e-b739-4973-c4f8-a729cacf01b1"
      },
      "execution_count": 65,
      "outputs": [
        {
          "output_type": "stream",
          "name": "stdout",
          "text": [
            "Jumlah Baris setalah Join : 100\n"
          ]
        }
      ]
    },
    {
      "cell_type": "code",
      "source": [
        "VolND = vol_df.dropDuplicates()\n",
        "print(f'Jumlah Baris tanpa duplikat : {VolND.count()}')"
      ],
      "metadata": {
        "colab": {
          "base_uri": "https://localhost:8080/"
        },
        "id": "OR_xt19Ii15z",
        "outputId": "05abfd9f-5e34-47fd-eb20-58b4bf15b655"
      },
      "execution_count": 66,
      "outputs": [
        {
          "output_type": "stream",
          "name": "stdout",
          "text": [
            "Jumlah Baris tanpa duplikat : 24\n"
          ]
        }
      ]
    },
    {
      "cell_type": "code",
      "source": [
        "VolNoMissing = VolND.dropna(subset='Fatality')\n",
        "VolNoMissing.show()"
      ],
      "metadata": {
        "colab": {
          "base_uri": "https://localhost:8080/"
        },
        "id": "eNuHnNZRjV8C",
        "outputId": "80304237-2d48-4c0d-cec6-eb30e03537dc"
      },
      "execution_count": 67,
      "outputs": [
        {
          "output_type": "stream",
          "name": "stdout",
          "text": [
            "+-----+----------------+-------------+----------------+---+-----------------+-------+-------------+--------------------+\n",
            "|index|   Eruption date|      Volcano|  Cessation date|VEI|  Characteristics|Tsunami|Tephra volume|            Fatality|\n",
            "+-----+----------------+-------------+----------------+---+-----------------+-------+-------------+--------------------+\n",
            "|   16|    2 March 1856|          awu|   17 March 1856|  3|         cv,pf,lm|    yes|0.51±0.50 km3|               2,806|\n",
            "|    8|   26 April 1966|        kelut|   27 April 1966|  4|      cv,cl,pf,lm|     no|    0.089 km3|                 212|\n",
            "|   15|   15 April 1872|       merapi|   21 April 1872|  4|            cv,pf|     no|     0.33 km3|                 200|\n",
            "|    9|   17 March 1963|        agung| 27 January 1964|  5|      cv,pf,lf,lm|     no|        1 km3|               1,148|\n",
            "|    6|    5 April 1982|   galunggung|  8 January 1983|  4|      cv,pf,lf,lm|     no|   0.37 km3 +|                  68|\n",
            "|    4|10 February 1990|        kelut|      March 1990|  4|cv,cl,pf,ph,ld,lm|     no|     0.13 km3|                  35|\n",
            "|    2|13 February 2014|        kelut|15 February 2014|  4|cv,cl,pf,ph,ld,lm|     no|     0.16 km3|                   4|\n",
            "|   17|  8 October 1822|   galunggung|   December 1822|  5|      cv,pf,ld,lm|     no|      1 km3 +|               4,011|\n",
            "|   22|            1586|        kelut|         unknown|  5|         cf,cl,lm|     no|      1 km3 +|              10,000|\n",
            "|   12|     19 May 1919|        kelut|     20 May 1919|  4|      cv,cl,pf,lm|     no|     0.19 km3|               5,110|\n",
            "|   19|   6 August 1812|          awu|   8 August 1812|  4|         cv,pf,lm|     no|0.55±0.50 km3|                 963|\n",
            "|   14|  26 August 1883|     krakatoa|   February 1884|  6|cv,se,pf,fa,lm,cc|15–42 m|    5–8.5 km3|              36,600|\n",
            "|    7|  6 October 1972|       merapi|      March 1985|  2|   cv,pf,lf,ld,lm|     no|    0.021 km3|                  29|\n",
            "|   24|     ≈ 74,000 BP|         toba|         unknown|  8|         pf,lf,cc| likely|    2,800 km3|Possible near ext...|\n",
            "|   11|25 November 1930|       merapi|  September 1931|  3|cv,rf,pf,lf,ld,lm|     no|   0.0017 km3|               1,369|\n",
            "|   10|  31 August 1951|        kelut|  31 August 1951|  4|      cv,cl,pf,lm|     no|      0.2 km3|                   7|\n",
            "|   18|   10 April 1815|mount tambora|    15 July 1815|  7|         cv,pf,cc|  1–2 m|      160 km3|             71,000+|\n",
            "|    1|21 December 2018|anak krakatoa| 10 January 2019|  4|cv,se,pf,fa,lm,cc|  1–2 m|         NULL|                 437|\n",
            "|   20|  12 August 1772|   papandayan|  12 August 1772|  3|            cv,ph|     no|         NULL|               2,957|\n",
            "|    3| 3 November 2010|       merapi| 8 November 2010|  4|      cv,pf,ld,lm|     no|         NULL|                 353|\n",
            "+-----+----------------+-------------+----------------+---+-----------------+-------+-------------+--------------------+\n",
            "only showing top 20 rows\n",
            "\n"
          ]
        }
      ]
    },
    {
      "cell_type": "code",
      "source": [
        "# Melihat Statistik data Clean\n",
        "VolNoMissing.describe().show()"
      ],
      "metadata": {
        "colab": {
          "base_uri": "https://localhost:8080/"
        },
        "id": "GE6Pfw5LjijD",
        "outputId": "11d79f4f-e839-4751-c8ca-e9aa3158c481"
      },
      "execution_count": 68,
      "outputs": [
        {
          "output_type": "stream",
          "name": "stdout",
          "text": [
            "+-------+------------------+-------------+-------+---------------+------------------+---------------+-------+-------------+--------------------+\n",
            "|summary|             index|Eruption date|Volcano| Cessation date|               VEI|Characteristics|Tsunami|Tephra volume|            Fatality|\n",
            "+-------+------------------+-------------+-------+---------------+------------------+---------------+-------+-------------+--------------------+\n",
            "|  count|                23|           23|     23|             23|                23|             23|     23|           17|                  23|\n",
            "|   mean|12.043478260869565|       1586.0|   NULL|           NULL| 4.217391304347826|           NULL|   NULL|         NULL|   209.8181818181818|\n",
            "| stddev| 6.858824845472406|         NULL|   NULL|           NULL|1.3469332756346388|           NULL|   NULL|         NULL|  291.61372333339125|\n",
            "|    min|                 1|10 April 1815|  agung|10 January 2019|                 2|       cf,cl,lm|15–42 m|   0.0017 km3|                   0|\n",
            "|    max|                24|  ≈ 74,000 BP|   toba|        unknown|                 8|       pf,lf,cc|    yes|    5–8.5 km3|Possible near ext...|\n",
            "+-------+------------------+-------------+-------+---------------+------------------+---------------+-------+-------------+--------------------+\n",
            "\n"
          ]
        }
      ]
    },
    {
      "cell_type": "code",
      "source": [
        "from pyspark.sql.functions import regexp_replace, col\n",
        "\n",
        "# Transmisi 'Fatality' ke numerik setelah menghapus koma dan menangani nilai non-numerik\n",
        "VolNoMissing = VolNoMissing.withColumn(\n",
        "    \"Fatality\",\n",
        "    regexp_replace(col(\"Fatality\"), \",\", \"\").cast(\"double\")\n",
        ")\n",
        "\n",
        "KorelasiVol = VolNoMissing.corr('VEI', 'Fatality')\n",
        "print(f'Korelasi VEI dan Fatality: {KorelasiVol}')"
      ],
      "metadata": {
        "colab": {
          "base_uri": "https://localhost:8080/"
        },
        "id": "vo-SxFOFj2s5",
        "outputId": "6e560f77-a186-48f7-aa24-5308386638d0"
      },
      "execution_count": 69,
      "outputs": [
        {
          "output_type": "stream",
          "name": "stdout",
          "text": [
            "Korelasi VEI dan Fatality: 0.26924193927746376\n"
          ]
        }
      ]
    }
  ]
}